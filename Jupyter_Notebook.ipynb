{
 "cells": [
  {
   "cell_type": "markdown",
   "metadata": {},
   "source": [
    "<center>\n",
    "    <img src=\"https://cf-courses-data.s3.us.cloud-object-storage.appdomain.cloud/IBMDeveloperSkillsNetwork-DS0105EN-SkillsNetwork/labs/Module2/images/SN_web_lightmode.png\" width=\"300\" alt=\"cognitiveclass.ai logo\">\n",
    "</center>\n"
   ]
  },
  {
   "cell_type": "markdown",
   "metadata": {},
   "source": [
    "#### Add your code below following the instructions given in the course\n"
   ]
  },
  {
   "cell_type": "markdown",
   "metadata": {},
   "source": [
    "**Assaignment**"
   ]
  },
  {
   "cell_type": "markdown",
   "metadata": {},
   "source": [
    "Introduction"
   ]
  },
  {
   "cell_type": "markdown",
   "metadata": {},
   "source": [
    "### Data Science Languages\n",
    "\n",
    "- **Python**: Widely used for its simplicity, extensive libraries (e.g., NumPy, Pandas, Scikit-learn), and versatility in data analysis, machine learning, and visualization.\n",
    "\n",
    "- **R**: Known for its statistical computing capabilities, R is commonly used in data analysis and visualization for statistical modeling.\n",
    "\n",
    "- **SQL**: Essential for working with databases; SQL is used to query, update, and manage relational databases in data science.\n",
    "\n",
    "- **Julia**: A high-level, high-performance language for technical computing, Julia is gaining popularity for its speed and ease of use in scientific computing.\n",
    "\n",
    "- **Scala**: Often used with Apache Spark for distributed computing, Scala is a general-purpose programming language that supports functional programming.\n",
    "\n",
    "- **Java**: Widely employed for big data processing with tools like Apache Hadoop and Apache Flink.\n",
    "\n"
   ]
  },
  {
   "cell_type": "markdown",
   "metadata": {},
   "source": [
    "### Data Science Libraries\n",
    "\n",
    "- **NumPy**: Fundamental package for scientific computing with Python, providing support for large, multi-dimensional arrays and matrices.\n",
    "\n",
    "- **Pandas**: A powerful and easy-to-use data manipulation and analysis library for Python, offering data structures like DataFrames.\n",
    "\n",
    "- **Matplotlib**: A 2D plotting library for Python that produces publication-quality figures in a variety of formats and interactive environments.\n",
    "\n",
    "- **Seaborn**: Built on top of Matplotlib, Seaborn provides a high-level interface for drawing attractive statistical graphics.\n",
    "\n",
    "- **Scikit-learn**: A machine learning library for Python that integrates with NumPy, SciPy, and Matplotlib, providing simple and efficient tools for data analysis and modeling.\n",
    "\n",
    "- **TensorFlow**: An open-source machine learning framework developed by Google for building and training deep learning models.\n",
    "\n",
    "- **PyTorch**: An open-source deep learning framework developed by Facebook's AI Research lab, known for its dynamic computational graph.\n",
    "\n",
    "- **SciPy**: A library for mathematics, science, and engineering that builds on NumPy and provides many additional functionalities.\n"
   ]
  },
  {
   "cell_type": "markdown",
   "metadata": {},
   "source": [
    "### Data Science Tools\n",
    "\n",
    "| Tool                 | Description                                                          |\n",
    "|----------------------|----------------------------------------------------------------------|\n",
    "| **Jupyter Notebook** | Interactive web-based notebook for data analysis and visualization. |\n",
    "| **RStudio**          | Integrated development environment (IDE) for R programming.          |\n",
    "| **VS Code**          | A versatile code editor with extensions for various languages.        |\n",
    "| **Spyder**           | Open-source IDE for Python with advanced editing, testing, and debugging features. |\n",
    "| **Tableau**          | Data visualization and business intelligence tool.                   |\n",
    "| **Excel**            | Widely used spreadsheet software for data analysis and reporting.    |\n",
    "| **Apache Hadoop**    | Distributed storage and processing framework for big data.           |\n",
    "| **Apache Spark**     | Open-source cluster-computing framework for big data processing.     |\n",
    "| **Git**              | Version control system for tracking changes in source code.          |\n",
    "| **Docker**           | Platform for developing, shipping, and running applications in containers. |\n",
    "| **SQL Server**       | Relational database management system with powerful data analysis capabilities. |\n",
    "| **MongoDB**          | NoSQL database for handling large volumes of unstructured data.      |\n",
    "| **Airflow**          | Platform to programmatically author, schedule, and monitor workflows. |\n",
    "| **TensorBoard**      | Web-based tool provided with TensorFlow for visualizing machine learning models. |\n",
    "| **Power BI**         | Business analytics tool for creating interactive reports and dashboards. |"
   ]
  },
  {
   "cell_type": "markdown",
   "metadata": {},
   "source": [
    "### Arithmetic Expression Examples\n",
    "\n",
    "Arithmetic expressions involve mathematical operations such as addition, subtraction, multiplication, and division. These expressions are fundamental in data science for performing calculations, manipulating data, and implementing algorithms. Below are some basic examples of arithmetic expressions:\n",
    "\n",
    " **Addition (+):**\n",
    "   ```python\n",
    "   result = 5 + 3\n",
    "   # Output: 8"
   ]
  },
  {
   "cell_type": "code",
   "execution_count": 1,
   "metadata": {
    "tags": []
   },
   "outputs": [
    {
     "name": "stdout",
     "output_type": "stream",
     "text": [
      "The product of 5 and 7 is: 35\n",
      "The sum of 5 and 7 is: 12\n"
     ]
    }
   ],
   "source": [
    "num1 = 5\n",
    "num2 = 7\n",
    "product = num1 * num2\n",
    "sum_result = num1 + num2\n",
    "print(f\"The product of {num1} and {num2} is: {product}\")\n",
    "print(f\"The sum of {num1} and {num2} is: {sum_result}\")"
   ]
  },
  {
   "cell_type": "code",
   "execution_count": 2,
   "metadata": {
    "tags": []
   },
   "outputs": [
    {
     "name": "stdout",
     "output_type": "stream",
     "text": [
      "120 minutes is equal to 2.0 hours.\n"
     ]
    }
   ],
   "source": [
    "minutes = 120\n",
    "hours = minutes / 60\n",
    "print(f\"{minutes} minutes is equal to {hours} hours.\")"
   ]
  },
  {
   "cell_type": "markdown",
   "metadata": {},
   "source": [
    "### Objectives\n",
    "\n",
    "1. **Understand Basic Arithmetic Operations:**\n",
    "   - Learn how to perform fundamental arithmetic operations such as addition, subtraction, multiplication, and division.\n",
    "\n",
    "2. **Explore Common Data Science Languages:**\n",
    "   - Familiarize yourself with popular programming languages used in data science, including Python, R, and SQL.\n",
    "\n",
    "3. **Discover Essential Data Science Libraries:**\n",
    "   - Explore key libraries like NumPy, Pandas, Matplotlib, and Scikit-learn for data manipulation, analysis, and visualization.\n",
    "\n",
    "4. **Get to Know Data Science Tools:**\n",
    "   - Gain insights into various tools used in data science, including Jupyter Notebook, RStudio, Git, and more."
   ]
  },
  {
   "cell_type": "markdown",
   "metadata": {
    "tags": []
   },
   "source": [
    "### Author\n",
    "\n",
    "**Hukkani**"
   ]
  },
  {
   "cell_type": "code",
   "execution_count": null,
   "metadata": {},
   "outputs": [],
   "source": []
  }
 ],
 "metadata": {
  "kernelspec": {
   "display_name": "Python",
   "language": "python",
   "name": "conda-env-python-py"
  },
  "language_info": {
   "codemirror_mode": {
    "name": "ipython",
    "version": 3
   },
   "file_extension": ".py",
   "mimetype": "text/x-python",
   "name": "python",
   "nbconvert_exporter": "python",
   "pygments_lexer": "ipython3",
   "version": "3.7.12"
  }
 },
 "nbformat": 4,
 "nbformat_minor": 4
}
